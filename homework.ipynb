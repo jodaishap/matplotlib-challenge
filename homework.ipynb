{
 "cells": [
  {
   "cell_type": "code",
   "execution_count": 121,
   "metadata": {},
   "outputs": [],
   "source": [
    "# Dependencies and Setup\n",
    "%matplotlib inline\n",
    "import matplotlib.pyplot as plt\n",
    "import pandas as pd\n",
    "import numpy as np\n",
    "\n",
    "# Hide warning messages in notebook\n",
    "import warnings\n",
    "warnings.filterwarnings('ignore')\n",
    "\n",
    "# File to Load (Remember to Change These)\n",
    "mouse_drug_data_to_load = \"../Pymaceuticals/mouse_drug_data.csv\"\n",
    "clinical_trial_data_to_load = \"../Pymaceuticals/clinicaltrial_data.csv\""
   ]
  },
  {
   "cell_type": "code",
   "execution_count": 122,
   "metadata": {},
   "outputs": [],
   "source": [
    "# Read the Mouse Data\n",
    "mouse_drug_pd = pd.read_csv(mouse_drug_data_to_load)"
   ]
  },
  {
   "cell_type": "markdown",
   "metadata": {},
   "source": [
    "## Tumor Response to Treatment"
   ]
  },
  {
   "cell_type": "code",
   "execution_count": 123,
   "metadata": {},
   "outputs": [],
   "source": [
    "#Read the Clinical Trial Data\n",
    "clinical_trial_pd = pd.read_csv(clinical_trial_data_to_load)"
   ]
  },
  {
   "cell_type": "code",
   "execution_count": 124,
   "metadata": {},
   "outputs": [
    {
     "data": {
      "text/plain": [
       "Index(['Mouse ID', 'Drug', 'Timepoint', 'Tumor Volume (mm3)',\n",
       "       'Metastatic Sites'],\n",
       "      dtype='object')"
      ]
     },
     "execution_count": 124,
     "metadata": {},
     "output_type": "execute_result"
    }
   ],
   "source": [
    "# Combine the data into a single dataset\n",
    "# Display the data table for preview\n",
    "drug_clinical_data = pd.merge(mouse_drug_pd, clinical_trial_pd, on='Mouse ID', how=\"right\")\n",
    "drug_clinical_data.columns\n"
   ]
  },
  {
   "cell_type": "code",
   "execution_count": 125,
   "metadata": {},
   "outputs": [
    {
     "data": {
      "text/html": [
       "<div>\n",
       "<style scoped>\n",
       "    .dataframe tbody tr th:only-of-type {\n",
       "        vertical-align: middle;\n",
       "    }\n",
       "\n",
       "    .dataframe tbody tr th {\n",
       "        vertical-align: top;\n",
       "    }\n",
       "\n",
       "    .dataframe thead th {\n",
       "        text-align: right;\n",
       "    }\n",
       "</style>\n",
       "<table border=\"1\" class=\"dataframe\">\n",
       "  <thead>\n",
       "    <tr style=\"text-align: right;\">\n",
       "      <th></th>\n",
       "      <th>Tumor Volume (mm3)</th>\n",
       "    </tr>\n",
       "    <tr>\n",
       "      <th>Drug</th>\n",
       "      <th></th>\n",
       "    </tr>\n",
       "  </thead>\n",
       "  <tbody>\n",
       "    <tr>\n",
       "      <th>Capomulin</th>\n",
       "      <td>40.675741</td>\n",
       "    </tr>\n",
       "    <tr>\n",
       "      <th>Ceftamin</th>\n",
       "      <td>52.591172</td>\n",
       "    </tr>\n",
       "    <tr>\n",
       "      <th>Infubinol</th>\n",
       "      <td>52.957935</td>\n",
       "    </tr>\n",
       "    <tr>\n",
       "      <th>Ketapril</th>\n",
       "      <td>55.235638</td>\n",
       "    </tr>\n",
       "    <tr>\n",
       "      <th>Naftisol</th>\n",
       "      <td>54.331565</td>\n",
       "    </tr>\n",
       "  </tbody>\n",
       "</table>\n",
       "</div>"
      ],
      "text/plain": [
       "           Tumor Volume (mm3)\n",
       "Drug                         \n",
       "Capomulin           40.675741\n",
       "Ceftamin            52.591172\n",
       "Infubinol           52.957935\n",
       "Ketapril            55.235638\n",
       "Naftisol            54.331565"
      ]
     },
     "execution_count": 125,
     "metadata": {},
     "output_type": "execute_result"
    }
   ],
   "source": [
    "# Store the Mean Tumor Volume Data Grouped by Drug and Timepoint \n",
    "mean_tumor_volume_by_drug = drug_clinical_data.groupby(['Drug']).mean()['Tumor Volume (mm3)']\n",
    "mean_tumor_volume_by_timepoint = drug_clinical_data.groupby(['Timepoint']).mean()['Tumor Volume (mm3)']\n",
    "\n",
    "# Convert to DataFrame\n",
    "mean_tumor_volume_by_drug_df = pd.DataFrame(mean_tumor_volume_by_drug)\n",
    "mean_tumor_volume_by_timepoint_df = pd.DataFrame(mean_tumor_volume_by_timepoint)\n",
    "\n",
    "# Preview DataFrame\n",
    "mean_tumor_volume_by_drug_df.head()"
   ]
  },
  {
   "cell_type": "code",
   "execution_count": 126,
   "metadata": {
    "scrolled": true
   },
   "outputs": [
    {
     "data": {
      "text/html": [
       "<div>\n",
       "<style scoped>\n",
       "    .dataframe tbody tr th:only-of-type {\n",
       "        vertical-align: middle;\n",
       "    }\n",
       "\n",
       "    .dataframe tbody tr th {\n",
       "        vertical-align: top;\n",
       "    }\n",
       "\n",
       "    .dataframe thead th {\n",
       "        text-align: right;\n",
       "    }\n",
       "</style>\n",
       "<table border=\"1\" class=\"dataframe\">\n",
       "  <thead>\n",
       "    <tr style=\"text-align: right;\">\n",
       "      <th></th>\n",
       "      <th>Tumor Volume (mm3)</th>\n",
       "    </tr>\n",
       "    <tr>\n",
       "      <th>Timepoint</th>\n",
       "      <th></th>\n",
       "    </tr>\n",
       "  </thead>\n",
       "  <tbody>\n",
       "    <tr>\n",
       "      <th>0</th>\n",
       "      <td>45.000000</td>\n",
       "    </tr>\n",
       "    <tr>\n",
       "      <th>5</th>\n",
       "      <td>46.456322</td>\n",
       "    </tr>\n",
       "    <tr>\n",
       "      <th>10</th>\n",
       "      <td>47.727948</td>\n",
       "    </tr>\n",
       "    <tr>\n",
       "      <th>15</th>\n",
       "      <td>49.026341</td>\n",
       "    </tr>\n",
       "    <tr>\n",
       "      <th>20</th>\n",
       "      <td>50.559627</td>\n",
       "    </tr>\n",
       "  </tbody>\n",
       "</table>\n",
       "</div>"
      ],
      "text/plain": [
       "           Tumor Volume (mm3)\n",
       "Timepoint                    \n",
       "0                   45.000000\n",
       "5                   46.456322\n",
       "10                  47.727948\n",
       "15                  49.026341\n",
       "20                  50.559627"
      ]
     },
     "execution_count": 126,
     "metadata": {},
     "output_type": "execute_result"
    }
   ],
   "source": [
    "#Preview the dataframe\n",
    "mean_tumor_volume_by_timepoint_df.head()"
   ]
  },
  {
   "cell_type": "code",
   "execution_count": 127,
   "metadata": {},
   "outputs": [
    {
     "data": {
      "text/html": [
       "<div>\n",
       "<style scoped>\n",
       "    .dataframe tbody tr th:only-of-type {\n",
       "        vertical-align: middle;\n",
       "    }\n",
       "\n",
       "    .dataframe tbody tr th {\n",
       "        vertical-align: top;\n",
       "    }\n",
       "\n",
       "    .dataframe thead th {\n",
       "        text-align: right;\n",
       "    }\n",
       "</style>\n",
       "<table border=\"1\" class=\"dataframe\">\n",
       "  <thead>\n",
       "    <tr style=\"text-align: right;\">\n",
       "      <th></th>\n",
       "      <th>0</th>\n",
       "    </tr>\n",
       "  </thead>\n",
       "  <tbody>\n",
       "    <tr>\n",
       "      <th>Tumor Volume (mm3)</th>\n",
       "      <td>1.775978</td>\n",
       "    </tr>\n",
       "  </tbody>\n",
       "</table>\n",
       "</div>"
      ],
      "text/plain": [
       "                           0\n",
       "Tumor Volume (mm3)  1.775978"
      ]
     },
     "execution_count": 127,
     "metadata": {},
     "output_type": "execute_result"
    }
   ],
   "source": [
    "# Store the Standard Error of Tumor Volumes Grouped by Drug \n",
    "standard_error_tumor_volume_grouped_by_drug = mean_tumor_volume_by_drug_df.sem(axis = 0) \n",
    "\n",
    "# Convert to DataFrame\n",
    "standard_error_tumor_volume_grouped_by_drug_df = pd.DataFrame(standard_error_tumor_volume_grouped_by_drug)\n",
    "\n",
    "# Preview DataFrame\n",
    "standard_error_tumor_volume_grouped_by_drug_df"
   ]
  },
  {
   "cell_type": "code",
   "execution_count": 128,
   "metadata": {},
   "outputs": [
    {
     "data": {
      "text/html": [
       "<div>\n",
       "<style scoped>\n",
       "    .dataframe tbody tr th:only-of-type {\n",
       "        vertical-align: middle;\n",
       "    }\n",
       "\n",
       "    .dataframe tbody tr th {\n",
       "        vertical-align: top;\n",
       "    }\n",
       "\n",
       "    .dataframe thead th {\n",
       "        text-align: right;\n",
       "    }\n",
       "</style>\n",
       "<table border=\"1\" class=\"dataframe\">\n",
       "  <thead>\n",
       "    <tr style=\"text-align: right;\">\n",
       "      <th></th>\n",
       "      <th>0</th>\n",
       "    </tr>\n",
       "  </thead>\n",
       "  <tbody>\n",
       "    <tr>\n",
       "      <th>Tumor Volume (mm3)</th>\n",
       "      <td>1.33939</td>\n",
       "    </tr>\n",
       "  </tbody>\n",
       "</table>\n",
       "</div>"
      ],
      "text/plain": [
       "                          0\n",
       "Tumor Volume (mm3)  1.33939"
      ]
     },
     "execution_count": 128,
     "metadata": {},
     "output_type": "execute_result"
    }
   ],
   "source": [
    "# Store the Standard Error of Tumor Volumes Grouped by Timepoint \n",
    "standard_error_tumor_volume_grouped_by_timepoint = mean_tumor_volume_by_timepoint_df.sem(axis = 0) \n",
    "\n",
    "# Convert to DataFrame\n",
    "standard_error_tumor_volume_grouped_by_timepoint_df = pd.DataFrame(standard_error_tumor_volume_grouped_by_timepoint)\n",
    "\n",
    "# Preview DataFrame\n",
    "standard_error_tumor_volume_grouped_by_timepoint_df"
   ]
  },
  {
   "cell_type": "code",
   "execution_count": 129,
   "metadata": {},
   "outputs": [
    {
     "data": {
      "text/html": [
       "<style  type=\"text/css\" >\n",
       "    #T_4114d4bc_d95e_11e9_a4e4_48bf6be339d8row3_col0 {\n",
       "            background-color:  yellow;\n",
       "        }</style><table id=\"T_4114d4bc_d95e_11e9_a4e4_48bf6be339d8\" ><thead>    <tr>        <th class=\"blank level0\" ></th>        <th class=\"col_heading level0 col0\" >Tumor Volume (mm3)</th>    </tr>    <tr>        <th class=\"index_name level0\" >Drug</th>        <th class=\"blank\" ></th>    </tr></thead><tbody>\n",
       "                <tr>\n",
       "                        <th id=\"T_4114d4bc_d95e_11e9_a4e4_48bf6be339d8level0_row0\" class=\"row_heading level0 row0\" >Capomulin</th>\n",
       "                        <td id=\"T_4114d4bc_d95e_11e9_a4e4_48bf6be339d8row0_col0\" class=\"data row0 col0\" >40.6757</td>\n",
       "            </tr>\n",
       "            <tr>\n",
       "                        <th id=\"T_4114d4bc_d95e_11e9_a4e4_48bf6be339d8level0_row1\" class=\"row_heading level0 row1\" >Ceftamin</th>\n",
       "                        <td id=\"T_4114d4bc_d95e_11e9_a4e4_48bf6be339d8row1_col0\" class=\"data row1 col0\" >52.5912</td>\n",
       "            </tr>\n",
       "            <tr>\n",
       "                        <th id=\"T_4114d4bc_d95e_11e9_a4e4_48bf6be339d8level0_row2\" class=\"row_heading level0 row2\" >Infubinol</th>\n",
       "                        <td id=\"T_4114d4bc_d95e_11e9_a4e4_48bf6be339d8row2_col0\" class=\"data row2 col0\" >52.9579</td>\n",
       "            </tr>\n",
       "            <tr>\n",
       "                        <th id=\"T_4114d4bc_d95e_11e9_a4e4_48bf6be339d8level0_row3\" class=\"row_heading level0 row3\" >Ketapril</th>\n",
       "                        <td id=\"T_4114d4bc_d95e_11e9_a4e4_48bf6be339d8row3_col0\" class=\"data row3 col0\" >55.2356</td>\n",
       "            </tr>\n",
       "            <tr>\n",
       "                        <th id=\"T_4114d4bc_d95e_11e9_a4e4_48bf6be339d8level0_row4\" class=\"row_heading level0 row4\" >Naftisol</th>\n",
       "                        <td id=\"T_4114d4bc_d95e_11e9_a4e4_48bf6be339d8row4_col0\" class=\"data row4 col0\" >54.3316</td>\n",
       "            </tr>\n",
       "            <tr>\n",
       "                        <th id=\"T_4114d4bc_d95e_11e9_a4e4_48bf6be339d8level0_row5\" class=\"row_heading level0 row5\" >Placebo</th>\n",
       "                        <td id=\"T_4114d4bc_d95e_11e9_a4e4_48bf6be339d8row5_col0\" class=\"data row5 col0\" >54.0336</td>\n",
       "            </tr>\n",
       "            <tr>\n",
       "                        <th id=\"T_4114d4bc_d95e_11e9_a4e4_48bf6be339d8level0_row6\" class=\"row_heading level0 row6\" >Propriva</th>\n",
       "                        <td id=\"T_4114d4bc_d95e_11e9_a4e4_48bf6be339d8row6_col0\" class=\"data row6 col0\" >52.3226</td>\n",
       "            </tr>\n",
       "            <tr>\n",
       "                        <th id=\"T_4114d4bc_d95e_11e9_a4e4_48bf6be339d8level0_row7\" class=\"row_heading level0 row7\" >Ramicane</th>\n",
       "                        <td id=\"T_4114d4bc_d95e_11e9_a4e4_48bf6be339d8row7_col0\" class=\"data row7 col0\" >40.2167</td>\n",
       "            </tr>\n",
       "            <tr>\n",
       "                        <th id=\"T_4114d4bc_d95e_11e9_a4e4_48bf6be339d8level0_row8\" class=\"row_heading level0 row8\" >Stelasyn</th>\n",
       "                        <td id=\"T_4114d4bc_d95e_11e9_a4e4_48bf6be339d8row8_col0\" class=\"data row8 col0\" >54.1064</td>\n",
       "            </tr>\n",
       "            <tr>\n",
       "                        <th id=\"T_4114d4bc_d95e_11e9_a4e4_48bf6be339d8level0_row9\" class=\"row_heading level0 row9\" >Zoniferol</th>\n",
       "                        <td id=\"T_4114d4bc_d95e_11e9_a4e4_48bf6be339d8row9_col0\" class=\"data row9 col0\" >53.2365</td>\n",
       "            </tr>\n",
       "    </tbody></table>"
      ],
      "text/plain": [
       "<pandas.io.formats.style.Styler at 0x118cec320>"
      ]
     },
     "execution_count": 129,
     "metadata": {},
     "output_type": "execute_result"
    }
   ],
   "source": [
    "# Minor Data Munging to Re-Format the Data Frames\n",
    "styled_mean_tumor_volume_by_drug_df = mean_tumor_volume_by_drug_df.style.highlight_max(axis=0)\n",
    "\n",
    "# Preview that Reformatting worked\n",
    "styled_mean_tumor_volume_by_drug_df"
   ]
  },
  {
   "cell_type": "code",
   "execution_count": 130,
   "metadata": {
    "scrolled": true
   },
   "outputs": [
    {
     "data": {
      "text/html": [
       "<style  type=\"text/css\" >\n",
       "    #T_411b11ec_d95e_11e9_a4e4_48bf6be339d8row9_col0 {\n",
       "            background-color:  yellow;\n",
       "        }</style><table id=\"T_411b11ec_d95e_11e9_a4e4_48bf6be339d8\" ><thead>    <tr>        <th class=\"blank level0\" ></th>        <th class=\"col_heading level0 col0\" >Tumor Volume (mm3)</th>    </tr>    <tr>        <th class=\"index_name level0\" >Timepoint</th>        <th class=\"blank\" ></th>    </tr></thead><tbody>\n",
       "                <tr>\n",
       "                        <th id=\"T_411b11ec_d95e_11e9_a4e4_48bf6be339d8level0_row0\" class=\"row_heading level0 row0\" >0</th>\n",
       "                        <td id=\"T_411b11ec_d95e_11e9_a4e4_48bf6be339d8row0_col0\" class=\"data row0 col0\" >45</td>\n",
       "            </tr>\n",
       "            <tr>\n",
       "                        <th id=\"T_411b11ec_d95e_11e9_a4e4_48bf6be339d8level0_row1\" class=\"row_heading level0 row1\" >5</th>\n",
       "                        <td id=\"T_411b11ec_d95e_11e9_a4e4_48bf6be339d8row1_col0\" class=\"data row1 col0\" >46.4563</td>\n",
       "            </tr>\n",
       "            <tr>\n",
       "                        <th id=\"T_411b11ec_d95e_11e9_a4e4_48bf6be339d8level0_row2\" class=\"row_heading level0 row2\" >10</th>\n",
       "                        <td id=\"T_411b11ec_d95e_11e9_a4e4_48bf6be339d8row2_col0\" class=\"data row2 col0\" >47.7279</td>\n",
       "            </tr>\n",
       "            <tr>\n",
       "                        <th id=\"T_411b11ec_d95e_11e9_a4e4_48bf6be339d8level0_row3\" class=\"row_heading level0 row3\" >15</th>\n",
       "                        <td id=\"T_411b11ec_d95e_11e9_a4e4_48bf6be339d8row3_col0\" class=\"data row3 col0\" >49.0263</td>\n",
       "            </tr>\n",
       "            <tr>\n",
       "                        <th id=\"T_411b11ec_d95e_11e9_a4e4_48bf6be339d8level0_row4\" class=\"row_heading level0 row4\" >20</th>\n",
       "                        <td id=\"T_411b11ec_d95e_11e9_a4e4_48bf6be339d8row4_col0\" class=\"data row4 col0\" >50.5596</td>\n",
       "            </tr>\n",
       "            <tr>\n",
       "                        <th id=\"T_411b11ec_d95e_11e9_a4e4_48bf6be339d8level0_row5\" class=\"row_heading level0 row5\" >25</th>\n",
       "                        <td id=\"T_411b11ec_d95e_11e9_a4e4_48bf6be339d8row5_col0\" class=\"data row5 col0\" >52.0682</td>\n",
       "            </tr>\n",
       "            <tr>\n",
       "                        <th id=\"T_411b11ec_d95e_11e9_a4e4_48bf6be339d8level0_row6\" class=\"row_heading level0 row6\" >30</th>\n",
       "                        <td id=\"T_411b11ec_d95e_11e9_a4e4_48bf6be339d8row6_col0\" class=\"data row6 col0\" >53.6632</td>\n",
       "            </tr>\n",
       "            <tr>\n",
       "                        <th id=\"T_411b11ec_d95e_11e9_a4e4_48bf6be339d8level0_row7\" class=\"row_heading level0 row7\" >35</th>\n",
       "                        <td id=\"T_411b11ec_d95e_11e9_a4e4_48bf6be339d8row7_col0\" class=\"data row7 col0\" >54.879</td>\n",
       "            </tr>\n",
       "            <tr>\n",
       "                        <th id=\"T_411b11ec_d95e_11e9_a4e4_48bf6be339d8level0_row8\" class=\"row_heading level0 row8\" >40</th>\n",
       "                        <td id=\"T_411b11ec_d95e_11e9_a4e4_48bf6be339d8row8_col0\" class=\"data row8 col0\" >56.2533</td>\n",
       "            </tr>\n",
       "            <tr>\n",
       "                        <th id=\"T_411b11ec_d95e_11e9_a4e4_48bf6be339d8level0_row9\" class=\"row_heading level0 row9\" >45</th>\n",
       "                        <td id=\"T_411b11ec_d95e_11e9_a4e4_48bf6be339d8row9_col0\" class=\"data row9 col0\" >57.3257</td>\n",
       "            </tr>\n",
       "    </tbody></table>"
      ],
      "text/plain": [
       "<pandas.io.formats.style.Styler at 0x118d1aac8>"
      ]
     },
     "execution_count": 130,
     "metadata": {},
     "output_type": "execute_result"
    }
   ],
   "source": [
    "# Minor Data Munging to Re-Format the Data Frames\n",
    "styled_mean_tumor_volume_by_timepoint_df = mean_tumor_volume_by_timepoint_df.style.highlight_max(axis=0)\n",
    "\n",
    "# Preview that Reformatting worked\n",
    "styled_mean_tumor_volume_by_timepoint_df"
   ]
  },
  {
   "cell_type": "code",
   "execution_count": 133,
   "metadata": {},
   "outputs": [
    {
     "ename": "NameError",
     "evalue": "name 'errorbar' is not defined",
     "output_type": "error",
     "traceback": [
      "\u001b[0;31m---------------------------------------------------------------------------\u001b[0m",
      "\u001b[0;31mNameError\u001b[0m                                 Traceback (most recent call last)",
      "\u001b[0;32m<ipython-input-133-107725155a59>\u001b[0m in \u001b[0;36m<module>\u001b[0;34m\u001b[0m\n\u001b[1;32m      1\u001b[0m \u001b[0;31m# Generate the Plot (with Error Bars)\u001b[0m\u001b[0;34m\u001b[0m\u001b[0;34m\u001b[0m\u001b[0;34m\u001b[0m\u001b[0m\n\u001b[1;32m      2\u001b[0m \u001b[0mfig\u001b[0m\u001b[0;34m,\u001b[0m\u001b[0max\u001b[0m \u001b[0;34m=\u001b[0m \u001b[0mplt\u001b[0m\u001b[0;34m.\u001b[0m\u001b[0msubplots\u001b[0m\u001b[0;34m(\u001b[0m\u001b[0;34m)\u001b[0m\u001b[0;34m\u001b[0m\u001b[0;34m\u001b[0m\u001b[0m\n\u001b[0;32m----> 3\u001b[0;31m \u001b[0max\u001b[0m\u001b[0;34m,\u001b[0m\u001b[0merrorbar\u001b[0m\u001b[0;34m(\u001b[0m\u001b[0mnp\u001b[0m\u001b[0;34m.\u001b[0m\u001b[0marange\u001b[0m\u001b[0;34m(\u001b[0m\u001b[0;36m35\u001b[0m\u001b[0;34m,\u001b[0m\u001b[0;36m60\u001b[0m\u001b[0;34m)\u001b[0m\u001b[0;34m,\u001b[0m\u001b[0mmeans\u001b[0m\u001b[0;34m,\u001b[0m \u001b[0myerr\u001b[0m\u001b[0;34m=\u001b[0m\u001b[0msems\u001b[0m\u001b[0;34m,\u001b[0m \u001b[0mfmt\u001b[0m\u001b[0;34m=\u001b[0m\u001b[0;34m\"o\"\u001b[0m\u001b[0;34m,\u001b[0m \u001b[0mcolor\u001b[0m\u001b[0;34m=\u001b[0m\u001b[0;34m\"b\"\u001b[0m\u001b[0;34m,\u001b[0m \u001b[0malpha\u001b[0m\u001b[0;34m=\u001b[0m\u001b[0;36m0.5\u001b[0m\u001b[0;34m,\u001b[0m \u001b[0mlabel\u001b[0m\u001b[0;34m=\u001b[0m\u001b[0;34m\"Mean of Tumor Volume by Drug\"\u001b[0m\u001b[0;34m)\u001b[0m\u001b[0;34m\u001b[0m\u001b[0;34m\u001b[0m\u001b[0m\n\u001b[0m\u001b[1;32m      4\u001b[0m \u001b[0max\u001b[0m\u001b[0;34m.\u001b[0m\u001b[0mset_xlim\u001b[0m\u001b[0;34m(\u001b[0m\u001b[0;36m35\u001b[0m\u001b[0;34m,\u001b[0m\u001b[0;36m60\u001b[0m\u001b[0;34m)\u001b[0m\u001b[0;34m\u001b[0m\u001b[0;34m\u001b[0m\u001b[0m\n\u001b[1;32m      5\u001b[0m \u001b[0max\u001b[0m\u001b[0;34m.\u001b[0m\u001b[0mset_ylim\u001b[0m\u001b[0;34m(\u001b[0m\u001b[0;36m35\u001b[0m\u001b[0;34m,\u001b[0m\u001b[0;36m60\u001b[0m\u001b[0;34m)\u001b[0m\u001b[0;34m\u001b[0m\u001b[0;34m\u001b[0m\u001b[0m\n",
      "\u001b[0;31mNameError\u001b[0m: name 'errorbar' is not defined"
     ]
    },
    {
     "data": {
      "image/png": "[encoded data removed]",
      "text/plain": [
       "<Figure size 432x288 with 1 Axes>"
      ]
     },
     "metadata": {
      "needs_background": "light"
     },
     "output_type": "display_data"
    }
   ],
   "source": [
    "# Generate the Plot (with Error Bars)\n",
    "fig,ax = plt.subplots()\n",
    "ax,errorbar(np.arange(35,60),means, yerr=sems, fmt=\"o\", color=\"b\", alpha=0.5, label=\"Mean of Tumor Volume by Drug\")\n",
    "ax.set_xlim(35,60)\n",
    "ax.set_ylim(35,60)\n",
    "ax.set_xlabel(\"Mean Tumor Volume by Drug\")\n",
    "ax.set_ylabel(\"Mean Tumor Volume by Timepoint\")\n",
    "plt.legend(loc=\"best\", fontsize=\"small\", fancybox=True)\n",
    "plt.show()\n",
    "\n",
    "# Save the Figure\n",
    "\n"
   ]
  },
  {
   "cell_type": "code",
   "execution_count": null,
   "metadata": {},
   "outputs": [],
   "source": [
    "# Show the Figure\n",
    "plt.show()"
   ]
  },
  {
   "cell_type": "markdown",
   "metadata": {},
   "source": [
    "![Tumor Response to Treatment](../Images/treatment.png)"
   ]
  },
  {
   "cell_type": "markdown",
   "metadata": {},
   "source": [
    "## Metastatic Response to Treatment"
   ]
  },
  {
   "cell_type": "code",
   "execution_count": null,
   "metadata": {},
   "outputs": [],
   "source": [
    "# Store the Mean Met. Site Data Grouped by Drug and Timepoint \n",
    "\n",
    "# Convert to DataFrame\n",
    "\n",
    "# Preview DataFrame\n"
   ]
  },
  {
   "cell_type": "code",
   "execution_count": null,
   "metadata": {},
   "outputs": [],
   "source": []
  },
  {
   "cell_type": "code",
   "execution_count": null,
   "metadata": {},
   "outputs": [],
   "source": [
    "# Store the Standard Error associated with Met. Sites Grouped by Drug and Timepoint \n",
    "\n",
    "# Convert to DataFrame\n",
    "\n",
    "# Preview DataFrame\n"
   ]
  },
  {
   "cell_type": "code",
   "execution_count": null,
   "metadata": {},
   "outputs": [],
   "source": []
  },
  {
   "cell_type": "code",
   "execution_count": null,
   "metadata": {},
   "outputs": [],
   "source": [
    "# Minor Data Munging to Re-Format the Data Frames\n",
    "\n",
    "# Preview that Reformatting worked\n"
   ]
  },
  {
   "cell_type": "code",
   "execution_count": null,
   "metadata": {
    "scrolled": true
   },
   "outputs": [],
   "source": []
  },
  {
   "cell_type": "code",
   "execution_count": null,
   "metadata": {},
   "outputs": [],
   "source": [
    "# Generate the Plot (with Error Bars)\n",
    "\n",
    "# Save the Figure\n",
    "\n",
    "# Show the Figure\n"
   ]
  },
  {
   "cell_type": "markdown",
   "metadata": {},
   "source": [
    "![Metastatic Spread During Treatment](../Images/spread.png)"
   ]
  },
  {
   "cell_type": "markdown",
   "metadata": {},
   "source": [
    "## Survival Rates"
   ]
  },
  {
   "cell_type": "code",
   "execution_count": null,
   "metadata": {},
   "outputs": [],
   "source": [
    "# Store the Count of Mice Grouped by Drug and Timepoint (W can pass any metric)\n",
    "\n",
    "# Convert to DataFrame\n",
    "\n",
    "# Preview DataFrame\n"
   ]
  },
  {
   "cell_type": "code",
   "execution_count": null,
   "metadata": {},
   "outputs": [],
   "source": []
  },
  {
   "cell_type": "code",
   "execution_count": null,
   "metadata": {},
   "outputs": [],
   "source": [
    "# Minor Data Munging to Re-Format the Data Frames\n",
    "\n",
    "# Preview the Data Frame\n"
   ]
  },
  {
   "cell_type": "code",
   "execution_count": null,
   "metadata": {
    "scrolled": true
   },
   "outputs": [],
   "source": []
  },
  {
   "cell_type": "code",
   "execution_count": null,
   "metadata": {},
   "outputs": [],
   "source": [
    "# Generate the Plot (Accounting for percentages)\n",
    "\n",
    "# Save the Figure\n",
    "\n",
    "# Show the Figure\n",
    "plt.show()"
   ]
  },
  {
   "cell_type": "markdown",
   "metadata": {},
   "source": [
    "![Metastatic Spread During Treatment](../Images/survival.png)"
   ]
  },
  {
   "cell_type": "markdown",
   "metadata": {},
   "source": [
    "## Summary Bar Graph"
   ]
  },
  {
   "cell_type": "code",
   "execution_count": null,
   "metadata": {},
   "outputs": [],
   "source": [
    "# Calculate the percent changes for each drug\n",
    "\n",
    "# Display the data to confirm\n"
   ]
  },
  {
   "cell_type": "code",
   "execution_count": null,
   "metadata": {},
   "outputs": [],
   "source": []
  },
  {
   "cell_type": "code",
   "execution_count": null,
   "metadata": {},
   "outputs": [],
   "source": [
    "# Store all Relevant Percent Changes into a Tuple\n",
    "\n",
    "\n",
    "# Splice the data between passing and failing drugs\n",
    "\n",
    "\n",
    "# Orient widths. Add labels, tick marks, etc. \n",
    "\n",
    "\n",
    "# Use functions to label the percentages of changes\n",
    "\n",
    "\n",
    "# Call functions to implement the function calls\n",
    "\n",
    "\n",
    "# Save the Figure\n",
    "\n",
    "\n",
    "# Show the Figure\n",
    "fig.show()"
   ]
  },
  {
   "cell_type": "markdown",
   "metadata": {},
   "source": [
    "![Metastatic Spread During Treatment](../Images/change.png)"
   ]
  },
  {
   "cell_type": "code",
   "execution_count": null,
   "metadata": {},
   "outputs": [],
   "source": []
  }
 ],
 "metadata": {
  "anaconda-cloud": {},
  "kernelspec": {
   "display_name": "Python 3",
   "language": "python",
   "name": "python3"
  },
  "language_info": {
   "codemirror_mode": {
    "name": "ipython",
    "version": 3
   },
   "file_extension": ".py",
   "mimetype": "text/x-python",
   "name": "python",
   "nbconvert_exporter": "python",
   "pygments_lexer": "ipython3",
   "version": "3.7.3"
  }
 },
 "nbformat": 4,
 "nbformat_minor": 1
}
